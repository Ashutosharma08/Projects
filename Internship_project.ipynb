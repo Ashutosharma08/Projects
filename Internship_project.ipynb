{
 "cells": [
  {
   "cell_type": "code",
   "execution_count": 2,
   "id": "149e71f9",
   "metadata": {},
   "outputs": [],
   "source": [
    "import pandas as pd\n",
    "import requests\n",
    "from bs4 import BeautifulSoup as bs\n",
    "from nltk.corpus import stopwords\n",
    "from nltk.tokenize import word_tokenize\n",
    "from nltk.tokenize import sent_tokenize\n",
    "import re\n",
    "import nltk"
   ]
  },
  {
   "cell_type": "code",
   "execution_count": 3,
   "id": "f64451b5",
   "metadata": {},
   "outputs": [],
   "source": [
    "import nltk\n",
    "#nltk.download()"
   ]
  },
  {
   "cell_type": "code",
   "execution_count": 15,
   "id": "c7f595de",
   "metadata": {},
   "outputs": [
    {
     "data": {
      "text/html": [
       "<div>\n",
       "<style scoped>\n",
       "    .dataframe tbody tr th:only-of-type {\n",
       "        vertical-align: middle;\n",
       "    }\n",
       "\n",
       "    .dataframe tbody tr th {\n",
       "        vertical-align: top;\n",
       "    }\n",
       "\n",
       "    .dataframe thead th {\n",
       "        text-align: right;\n",
       "    }\n",
       "</style>\n",
       "<table border=\"1\" class=\"dataframe\">\n",
       "  <thead>\n",
       "    <tr style=\"text-align: right;\">\n",
       "      <th></th>\n",
       "      <th>Heading</th>\n",
       "      <th>Para</th>\n",
       "    </tr>\n",
       "  </thead>\n",
       "  <tbody>\n",
       "    <tr>\n",
       "      <th>0</th>\n",
       "      <td>How is Login Logout Time Tracking for Employee...</td>\n",
       "      <td>When people hear AI they often think about sen...</td>\n",
       "    </tr>\n",
       "    <tr>\n",
       "      <th>1</th>\n",
       "      <td>How is Login Logout Time Tracking for Employee...</td>\n",
       "      <td>“Artificial Intelligence (AI) is a science and...</td>\n",
       "    </tr>\n",
       "    <tr>\n",
       "      <th>2</th>\n",
       "      <td>How is Login Logout Time Tracking for Employee...</td>\n",
       "      <td>AI and Deep Learning technology employed in of...</td>\n",
       "    </tr>\n",
       "    <tr>\n",
       "      <th>3</th>\n",
       "      <td>How is Login Logout Time Tracking for Employee...</td>\n",
       "      <td>For several countries, regulations insist that...</td>\n",
       "    </tr>\n",
       "    <tr>\n",
       "      <th>4</th>\n",
       "      <td>How is Login Logout Time Tracking for Employee...</td>\n",
       "      <td>This is about monitoring user connection times...</td>\n",
       "    </tr>\n",
       "    <tr>\n",
       "      <th>...</th>\n",
       "      <td>...</td>\n",
       "      <td>...</td>\n",
       "    </tr>\n",
       "    <tr>\n",
       "      <th>2862</th>\n",
       "      <td>What is Data Exfiltration?</td>\n",
       "      <td>For example, let us suppose that we want to de...</td>\n",
       "    </tr>\n",
       "    <tr>\n",
       "      <th>2863</th>\n",
       "      <td>What is Data Exfiltration?</td>\n",
       "      <td>If we abstract this concept, we obtain the fol...</td>\n",
       "    </tr>\n",
       "    <tr>\n",
       "      <th>2864</th>\n",
       "      <td>What is Data Exfiltration?</td>\n",
       "      <td>The closer the capacity is to the rate at whic...</td>\n",
       "    </tr>\n",
       "    <tr>\n",
       "      <th>2865</th>\n",
       "      <td>Impacts of COVID 19 on Food products</td>\n",
       "      <td>Some vendors (fruit and vegetable sellers) beg...</td>\n",
       "    </tr>\n",
       "    <tr>\n",
       "      <th>2866</th>\n",
       "      <td>Impacts of COVID 19 on Food products</td>\n",
       "      <td>The state has recently announced a stimulus pa...</td>\n",
       "    </tr>\n",
       "  </tbody>\n",
       "</table>\n",
       "<p>2867 rows × 2 columns</p>\n",
       "</div>"
      ],
      "text/plain": [
       "                                                Heading  \\\n",
       "0     How is Login Logout Time Tracking for Employee...   \n",
       "1     How is Login Logout Time Tracking for Employee...   \n",
       "2     How is Login Logout Time Tracking for Employee...   \n",
       "3     How is Login Logout Time Tracking for Employee...   \n",
       "4     How is Login Logout Time Tracking for Employee...   \n",
       "...                                                 ...   \n",
       "2862                         What is Data Exfiltration?   \n",
       "2863                         What is Data Exfiltration?   \n",
       "2864                         What is Data Exfiltration?   \n",
       "2865               Impacts of COVID 19 on Food products   \n",
       "2866               Impacts of COVID 19 on Food products   \n",
       "\n",
       "                                                   Para  \n",
       "0     When people hear AI they often think about sen...  \n",
       "1     “Artificial Intelligence (AI) is a science and...  \n",
       "2     AI and Deep Learning technology employed in of...  \n",
       "3     For several countries, regulations insist that...  \n",
       "4     This is about monitoring user connection times...  \n",
       "...                                                 ...  \n",
       "2862  For example, let us suppose that we want to de...  \n",
       "2863  If we abstract this concept, we obtain the fol...  \n",
       "2864  The closer the capacity is to the rate at whic...  \n",
       "2865  Some vendors (fruit and vegetable sellers) beg...  \n",
       "2866  The state has recently announced a stimulus pa...  \n",
       "\n",
       "[2867 rows x 2 columns]"
      ]
     },
     "execution_count": 15,
     "metadata": {},
     "output_type": "execute_result"
    }
   ],
   "source": [
    "df = pd.read_csv(\"url_p_scrape.csv\")\n",
    "df"
   ]
  },
  {
   "cell_type": "code",
   "execution_count": 19,
   "id": "e838617d",
   "metadata": {},
   "outputs": [
    {
     "data": {
      "text/plain": [
       "2711"
      ]
     },
     "execution_count": 19,
     "metadata": {},
     "output_type": "execute_result"
    }
   ],
   "source": [
    "df.Heading.duplicated().sum()"
   ]
  },
  {
   "cell_type": "code",
   "execution_count": 21,
   "id": "bb576000",
   "metadata": {},
   "outputs": [
    {
     "data": {
      "text/plain": [
       "170"
      ]
     },
     "execution_count": 21,
     "metadata": {},
     "output_type": "execute_result"
    }
   ],
   "source": [
    "df1 = pd.read_excel('Input.xlsx')\n",
    "df1.URL.count()"
   ]
  },
  {
   "cell_type": "code",
   "execution_count": 26,
   "id": "d6bcc4e1",
   "metadata": {},
   "outputs": [],
   "source": [
    "df_heading=df.groupby(['Heading'])"
   ]
  },
  {
   "cell_type": "code",
   "execution_count": 30,
   "id": "46a6904e",
   "metadata": {},
   "outputs": [
    {
     "data": {
      "text/html": [
       "<div>\n",
       "<style scoped>\n",
       "    .dataframe tbody tr th:only-of-type {\n",
       "        vertical-align: middle;\n",
       "    }\n",
       "\n",
       "    .dataframe tbody tr th {\n",
       "        vertical-align: top;\n",
       "    }\n",
       "\n",
       "    .dataframe thead th {\n",
       "        text-align: right;\n",
       "    }\n",
       "</style>\n",
       "<table border=\"1\" class=\"dataframe\">\n",
       "  <thead>\n",
       "    <tr style=\"text-align: right;\">\n",
       "      <th></th>\n",
       "      <th>Heading</th>\n",
       "      <th>Para</th>\n",
       "    </tr>\n",
       "  </thead>\n",
       "  <tbody>\n",
       "    <tr>\n",
       "      <th>2856</th>\n",
       "      <td>What is Data Exfiltration?</td>\n",
       "      <td>If we talk in terms of our general life, Exfil...</td>\n",
       "    </tr>\n",
       "    <tr>\n",
       "      <th>2857</th>\n",
       "      <td>What is Data Exfiltration?</td>\n",
       "      <td>NaN</td>\n",
       "    </tr>\n",
       "    <tr>\n",
       "      <th>2858</th>\n",
       "      <td>What is Data Exfiltration?</td>\n",
       "      <td>Source: https://urlzs.com/L7bf</td>\n",
       "    </tr>\n",
       "    <tr>\n",
       "      <th>2859</th>\n",
       "      <td>What is Data Exfiltration?</td>\n",
       "      <td>NaN</td>\n",
       "    </tr>\n",
       "    <tr>\n",
       "      <th>2860</th>\n",
       "      <td>What is Data Exfiltration?</td>\n",
       "      <td>Source: https://urlzs.com/GiJX</td>\n",
       "    </tr>\n",
       "    <tr>\n",
       "      <th>2861</th>\n",
       "      <td>What is Data Exfiltration?</td>\n",
       "      <td>Covert channels evolved from tattooing message...</td>\n",
       "    </tr>\n",
       "    <tr>\n",
       "      <th>2862</th>\n",
       "      <td>What is Data Exfiltration?</td>\n",
       "      <td>For example, let us suppose that we want to de...</td>\n",
       "    </tr>\n",
       "    <tr>\n",
       "      <th>2863</th>\n",
       "      <td>What is Data Exfiltration?</td>\n",
       "      <td>If we abstract this concept, we obtain the fol...</td>\n",
       "    </tr>\n",
       "    <tr>\n",
       "      <th>2864</th>\n",
       "      <td>What is Data Exfiltration?</td>\n",
       "      <td>The closer the capacity is to the rate at whic...</td>\n",
       "    </tr>\n",
       "  </tbody>\n",
       "</table>\n",
       "</div>"
      ],
      "text/plain": [
       "                         Heading  \\\n",
       "2856  What is Data Exfiltration?   \n",
       "2857  What is Data Exfiltration?   \n",
       "2858  What is Data Exfiltration?   \n",
       "2859  What is Data Exfiltration?   \n",
       "2860  What is Data Exfiltration?   \n",
       "2861  What is Data Exfiltration?   \n",
       "2862  What is Data Exfiltration?   \n",
       "2863  What is Data Exfiltration?   \n",
       "2864  What is Data Exfiltration?   \n",
       "\n",
       "                                                   Para  \n",
       "2856  If we talk in terms of our general life, Exfil...  \n",
       "2857                                                NaN  \n",
       "2858                     Source: https://urlzs.com/L7bf  \n",
       "2859                                                NaN  \n",
       "2860                     Source: https://urlzs.com/GiJX  \n",
       "2861  Covert channels evolved from tattooing message...  \n",
       "2862  For example, let us suppose that we want to de...  \n",
       "2863  If we abstract this concept, we obtain the fol...  \n",
       "2864  The closer the capacity is to the rate at whic...  "
      ]
     },
     "execution_count": 30,
     "metadata": {},
     "output_type": "execute_result"
    }
   ],
   "source": [
    "df_heading.get_group('What is Data Exfiltration?')"
   ]
  },
  {
   "cell_type": "code",
   "execution_count": 36,
   "id": "c530acbe",
   "metadata": {},
   "outputs": [
    {
     "data": {
      "text/plain": [
       "0       When people hear AI they often think about sen...\n",
       "1       “Artificial Intelligence (AI) is a science and...\n",
       "2       AI and Deep Learning technology employed in of...\n",
       "3       For several countries, regulations insist that...\n",
       "4       This is about monitoring user connection times...\n",
       "                              ...                        \n",
       "2858                       Source: https://urlzs.com/L7bf\n",
       "2859                                                  NaN\n",
       "2860                       Source: https://urlzs.com/GiJX\n",
       "2865    Some vendors (fruit and vegetable sellers) beg...\n",
       "2866    The state has recently announced a stimulus pa...\n",
       "Name: Para, Length: 752, dtype: object"
      ]
     },
     "execution_count": 36,
     "metadata": {},
     "output_type": "execute_result"
    }
   ],
   "source": [
    "df_heading['Para']"
   ]
  },
  {
   "cell_type": "code",
   "execution_count": null,
   "id": "41cdf26f",
   "metadata": {},
   "outputs": [],
   "source": []
  }
 ],
 "metadata": {
  "kernelspec": {
   "display_name": "Python 3",
   "language": "python",
   "name": "python3"
  },
  "language_info": {
   "codemirror_mode": {
    "name": "ipython",
    "version": 3
   },
   "file_extension": ".py",
   "mimetype": "text/x-python",
   "name": "python",
   "nbconvert_exporter": "python",
   "pygments_lexer": "ipython3",
   "version": "3.8.8"
  }
 },
 "nbformat": 4,
 "nbformat_minor": 5
}
