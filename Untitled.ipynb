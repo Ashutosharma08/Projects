{
 "cells": [
  {
   "cell_type": "markdown",
   "id": "c337c7fb",
   "metadata": {},
   "source": [
    "## Merge sort.\n",
    "\n",
    "It is a sorting technique with the optimum run time for any comparisson based technique.\n",
    "O(n*logn)\n",
    "It uses the concept of Divide and Conquer, basically it divides the whole array into several small single elemented arrays\n",
    "and then compares them and merges them into one big sorted array."
   ]
  },
  {
   "cell_type": "code",
   "execution_count": 2,
   "id": "2b1cc333",
   "metadata": {},
   "outputs": [
    {
     "name": "stdout",
     "output_type": "stream",
     "text": [
      "[0, 1, 2, 4, 6, 9, 78]\n"
     ]
    }
   ],
   "source": [
    "def merge_sort(arr):\n",
    "    if len(arr)>1:\n",
    "        left_arr = arr[:len(arr)//2]\n",
    "        right_arr = arr[len(arr)//2:]\n",
    "    \n",
    "        #recurse\n",
    "        merge_sort(left_arr)\n",
    "        merge_sort(right_arr)\n",
    "        \n",
    "        #merge\n",
    "        i = 0 #left index\n",
    "        j = 0 #right index\n",
    "        k = 0 #merged arr index\n",
    "        \n",
    "        while i<len(left_arr) and j < len(right_arr):\n",
    "            if left_arr[i] < right_arr[j]:\n",
    "                arr[k] = left_arr[i]\n",
    "                i+=1\n",
    "                \n",
    "            else:\n",
    "                arr[k] = right_arr[j]\n",
    "                j+=1\n",
    "            k+=1\n",
    "            \n",
    "        while i < len(left_arr):\n",
    "            arr[k] = left_arr[i]\n",
    "            i+=1\n",
    "            k+=1\n",
    "        \n",
    "        while j < len(right_arr):\n",
    "            arr[k] = right_arr[j]\n",
    "            j+=1\n",
    "            k+=1\n",
    "            \n",
    "\n",
    "arr_test = [2,4,6,78,9,1,0]\n",
    "merge_sort(arr_test)\n",
    "print(arr_test)\n",
    "               \n",
    "            \n",
    "    \n",
    "    "
   ]
  },
  {
   "cell_type": "code",
   "execution_count": 4,
   "id": "ca64f77e",
   "metadata": {},
   "outputs": [
    {
     "name": "stdout",
     "output_type": "stream",
     "text": [
      "[0, 12, 23, 23, 23, 45, 54, 76, 89]\n"
     ]
    }
   ],
   "source": [
    "def merge_sort(arr):\n",
    "    if len(arr) > 1:\n",
    "        left_arr = arr[:len(arr)//2]\n",
    "        right_arr = arr[len(arr)//2:]\n",
    "    \n",
    "        merge_sort(left_arr)\n",
    "        merge_sort(right_arr)\n",
    "    \n",
    "        i = 0\n",
    "        j = 0\n",
    "        k = 0\n",
    "    \n",
    "        while i < len(left_arr) and j < len(right_arr):\n",
    "            if left_arr[i] < right_arr[j]:\n",
    "                arr[k] = left_arr[i]\n",
    "                i+=1\n",
    "                k+=1\n",
    "            else:\n",
    "                arr[k] = right_arr[j]\n",
    "                j+=1\n",
    "                k+=1\n",
    "            \n",
    "        while i < len(left_arr):\n",
    "            arr[k] = left_arr[i]\n",
    "            i+=1\n",
    "            k+=1\n",
    "        while j < len(right_arr):\n",
    "            arr[k] = right_arr[j]\n",
    "            j+=1\n",
    "            k+=1\n",
    "        \n",
    "        \n",
    "arr_test = [23,54,76,89,12,0,45,23,23]\n",
    "\n",
    "merge_sort(arr_test)\n",
    "print(arr_test)\n",
    "    \n",
    "    \n",
    "    "
   ]
  },
  {
   "cell_type": "code",
   "execution_count": null,
   "id": "46ad75d4",
   "metadata": {},
   "outputs": [],
   "source": []
  }
 ],
 "metadata": {
  "kernelspec": {
   "display_name": "Python 3",
   "language": "python",
   "name": "python3"
  },
  "language_info": {
   "codemirror_mode": {
    "name": "ipython",
    "version": 3
   },
   "file_extension": ".py",
   "mimetype": "text/x-python",
   "name": "python",
   "nbconvert_exporter": "python",
   "pygments_lexer": "ipython3",
   "version": "3.8.8"
  }
 },
 "nbformat": 4,
 "nbformat_minor": 5
}
